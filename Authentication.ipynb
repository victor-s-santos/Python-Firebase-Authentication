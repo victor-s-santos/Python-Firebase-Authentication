{
 "cells": [
  {
   "cell_type": "code",
   "execution_count": 23,
   "metadata": {},
   "outputs": [
    {
     "name": "stdout",
     "output_type": "stream",
     "text": [
      "Requirement already satisfied: setuptools in /home/visus/.pyenv/versions/3.8.0/lib/python3.8/site-packages (41.2.0)\n",
      "Collecting gcloud==0.17.0\n",
      "  Downloading gcloud-0.17.0.tar.gz (458 kB)\n",
      "\u001b[K     |████████████████████████████████| 458 kB 1.7 MB/s eta 0:00:01\n",
      "\u001b[?25hCollecting oauth2client==3.0.0\n",
      "  Downloading oauth2client-3.0.0.tar.gz (77 kB)\n",
      "\u001b[K     |████████████████████████████████| 77 kB 704 kB/s eta 0:00:01\n",
      "\u001b[?25hRequirement already satisfied: pyrebase in /home/visus/.pyenv/versions/3.8.0/lib/python3.8/site-packages (3.0.27)\n",
      "Requirement already satisfied: httplib2>=0.9.1 in /home/visus/.pyenv/versions/3.8.0/lib/python3.8/site-packages (from gcloud==0.17.0) (0.18.1)\n",
      "Requirement already satisfied: googleapis-common-protos in /home/visus/.pyenv/versions/3.8.0/lib/python3.8/site-packages (from gcloud==0.17.0) (1.52.0)\n",
      "Requirement already satisfied: protobuf!=3.0.0.b2.post1,>=3.0.0b2 in /home/visus/.pyenv/versions/3.8.0/lib/python3.8/site-packages (from gcloud==0.17.0) (3.13.0)\n",
      "Requirement already satisfied: six in /home/visus/.pyenv/versions/3.8.0/lib/python3.8/site-packages (from gcloud==0.17.0) (1.15.0)\n",
      "Requirement already satisfied: pyasn1>=0.1.7 in /home/visus/.pyenv/versions/3.8.0/lib/python3.8/site-packages (from oauth2client==3.0.0) (0.4.8)\n",
      "Requirement already satisfied: pyasn1-modules>=0.0.5 in /home/visus/.pyenv/versions/3.8.0/lib/python3.8/site-packages (from oauth2client==3.0.0) (0.2.8)\n",
      "Requirement already satisfied: rsa>=3.1.4 in /home/visus/.pyenv/versions/3.8.0/lib/python3.8/site-packages (from oauth2client==3.0.0) (4.6)\n",
      "Requirement already satisfied: requests-toolbelt==0.7.0 in /home/visus/.pyenv/versions/3.8.0/lib/python3.8/site-packages (from pyrebase) (0.7.0)\n",
      "Requirement already satisfied: requests==2.11.1 in /home/visus/.pyenv/versions/3.8.0/lib/python3.8/site-packages (from pyrebase) (2.11.1)\n",
      "Requirement already satisfied: python-jwt==2.0.1 in /home/visus/.pyenv/versions/3.8.0/lib/python3.8/site-packages (from pyrebase) (2.0.1)\n",
      "Requirement already satisfied: pycryptodome==3.4.3 in /home/visus/.pyenv/versions/3.8.0/lib/python3.8/site-packages (from pyrebase) (3.4.3)\n",
      "Requirement already satisfied: jws>=0.1.3 in /home/visus/.pyenv/versions/3.8.0/lib/python3.8/site-packages (from python-jwt==2.0.1->pyrebase) (0.1.3)\n",
      "Using legacy 'setup.py install' for gcloud, since package 'wheel' is not installed.\n",
      "Using legacy 'setup.py install' for oauth2client, since package 'wheel' is not installed.\n",
      "Installing collected packages: oauth2client, gcloud\n",
      "  Attempting uninstall: oauth2client\n",
      "    Found existing installation: oauth2client 4.1.3\n",
      "    Uninstalling oauth2client-4.1.3:\n",
      "      Successfully uninstalled oauth2client-4.1.3\n",
      "    Running setup.py install for oauth2client ... \u001b[?25ldone\n",
      "\u001b[?25h  Attempting uninstall: gcloud\n",
      "    Found existing installation: gcloud 0.18.3\n",
      "    Uninstalling gcloud-0.18.3:\n",
      "      Successfully uninstalled gcloud-0.18.3\n",
      "    Running setup.py install for gcloud ... \u001b[?25ldone\n",
      "\u001b[?25hSuccessfully installed gcloud-0.17.0 oauth2client-3.0.0\n"
     ]
    }
   ],
   "source": [
    "# Install a pip package in the current Jupyter kernel\n",
    "import sys\n",
    "!{sys.executable} -m pip install setuptools gcloud==0.17.0 oauth2client==3.0.0 pyrebase"
   ]
  },
  {
   "cell_type": "code",
   "execution_count": 8,
   "metadata": {},
   "outputs": [
    {
     "name": "stdout",
     "output_type": "stream",
     "text": [
      "Collecting python-dotenv\n",
      "  Using cached python_dotenv-0.14.0-py2.py3-none-any.whl (17 kB)\n",
      "Installing collected packages: python-dotenv\n",
      "Successfully installed python-dotenv-0.14.0\n"
     ]
    }
   ],
   "source": [
    "!{sys.executable} -m pip install python-dotenv"
   ]
  },
  {
   "cell_type": "markdown",
   "metadata": {},
   "source": [
    "# Simple Test Using Firebase"
   ]
  },
  {
   "cell_type": "code",
   "execution_count": 24,
   "metadata": {},
   "outputs": [],
   "source": [
    "import os\n",
    "import pyrebase\n",
    "from dotenv import load_dotenv\n",
    "load_dotenv()\n",
    "from getpass import getpass\n",
    "\n",
    "firebaseConfig = {\n",
    "    \"apiKey\": os.getenv(\"apiKey\"),\n",
    "    \"authDomain\": os.getenv(\"authDomain\"),\n",
    "    \"databaseURL\": os.getenv(\"databaseURL\"),\n",
    "    \"projectId\": os.getenv(\"projectId\"),\n",
    "    \"storageBucket\": os.getenv(\"storageBucket\"),\n",
    "    \"messagingSenderId\": os.getenv(\"messagingSenderId\"),\n",
    "    \"appId\": os.getenv(\"appId\"),\n",
    "    \"measurementId\": os.getenv(\"measurementId\") \n",
    "}\n",
    "\n",
    "firebase = pyrebase.initialize_app(firebaseConfig)\n",
    "auth = firebase.auth()"
   ]
  },
  {
   "cell_type": "code",
   "execution_count": 25,
   "metadata": {},
   "outputs": [
    {
     "name": "stdout",
     "output_type": "stream",
     "text": [
      "Enter the email you would like to register:\n",
      " victorsantos.py@gmail.com\n",
      "Create the best possible password:\n",
      " ········\n"
     ]
    }
   ],
   "source": [
    "email = input(\"Enter the email you would like to register:\\n \")\n",
    "senha = getpass(\"Create the best possible password:\\n \")\n",
    "\n",
    "usuario = auth.create_user_with_email_and_password(email, senha)\n"
   ]
  }
 ],
 "metadata": {
  "kernelspec": {
   "display_name": "Python 3",
   "language": "python",
   "name": "python3"
  },
  "language_info": {
   "codemirror_mode": {
    "name": "ipython",
    "version": 3
   },
   "file_extension": ".py",
   "mimetype": "text/x-python",
   "name": "python",
   "nbconvert_exporter": "python",
   "pygments_lexer": "ipython3",
   "version": "3.8.0"
  }
 },
 "nbformat": 4,
 "nbformat_minor": 4
}
