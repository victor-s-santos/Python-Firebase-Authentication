{
 "cells": [
  {
   "cell_type": "code",
   "execution_count": 2,
   "metadata": {},
   "outputs": [
    {
     "name": "stdout",
     "output_type": "stream",
     "text": [
      "Requirement already satisfied: setuptools in /home/visus/.pyenv/versions/3.8.0/lib/python3.8/site-packages (41.2.0)\n",
      "Collecting gcloud\n",
      "  Downloading gcloud-0.18.3.tar.gz (454 kB)\n",
      "\u001b[K     |████████████████████████████████| 454 kB 2.2 MB/s eta 0:00:01\n",
      "\u001b[?25hCollecting pyrebase\n",
      "  Downloading Pyrebase-3.0.27-py3-none-any.whl (9.6 kB)\n",
      "Collecting httplib2>=0.9.1\n",
      "  Downloading httplib2-0.18.1-py3-none-any.whl (95 kB)\n",
      "\u001b[K     |████████████████████████████████| 95 kB 302 kB/s eta 0:00:01\n",
      "\u001b[?25hCollecting googleapis-common-protos\n",
      "  Downloading googleapis_common_protos-1.52.0-py2.py3-none-any.whl (100 kB)\n",
      "\u001b[K     |████████████████████████████████| 100 kB 702 kB/s ta 0:00:01\n",
      "\u001b[?25hCollecting oauth2client>=2.0.1\n",
      "  Downloading oauth2client-4.1.3-py2.py3-none-any.whl (98 kB)\n",
      "\u001b[K     |████████████████████████████████| 98 kB 559 kB/s eta 0:00:01\n",
      "\u001b[?25hCollecting protobuf!=3.0.0.b2.post1,>=3.0.0b2\n",
      "  Downloading protobuf-3.13.0-cp38-cp38-manylinux1_x86_64.whl (1.3 MB)\n",
      "\u001b[K     |████████████████████████████████| 1.3 MB 3.2 MB/s eta 0:00:01\n",
      "\u001b[?25hRequirement already satisfied: six in /home/visus/.pyenv/versions/3.8.0/lib/python3.8/site-packages (from gcloud) (1.15.0)\n",
      "Collecting python-jwt==2.0.1\n",
      "  Downloading python_jwt-2.0.1-py2.py3-none-any.whl (8.8 kB)\n",
      "Collecting requests==2.11.1\n",
      "  Downloading requests-2.11.1-py2.py3-none-any.whl (514 kB)\n",
      "\u001b[K     |████████████████████████████████| 514 kB 4.4 MB/s eta 0:00:01\n",
      "\u001b[?25hCollecting pycryptodome==3.4.3\n",
      "  Downloading pycryptodome-3.4.3.tar.gz (6.5 MB)\n",
      "\u001b[K     |████████████████████████████████| 6.5 MB 7.3 MB/s eta 0:00:01\n",
      "\u001b[?25hCollecting requests-toolbelt==0.7.0\n",
      "  Downloading requests_toolbelt-0.7.0-py2.py3-none-any.whl (52 kB)\n",
      "\u001b[K     |████████████████████████████████| 52 kB 79 kB/s  eta 0:00:011\n",
      "\u001b[?25hCollecting pyasn1-modules>=0.0.5\n",
      "  Downloading pyasn1_modules-0.2.8-py2.py3-none-any.whl (155 kB)\n",
      "\u001b[K     |████████████████████████████████| 155 kB 5.3 MB/s eta 0:00:01\n",
      "\u001b[?25hCollecting pyasn1>=0.1.7\n",
      "  Downloading pyasn1-0.4.8-py2.py3-none-any.whl (77 kB)\n",
      "\u001b[K     |████████████████████████████████| 77 kB 646 kB/s eta 0:00:01\n",
      "\u001b[?25hCollecting rsa>=3.1.4\n",
      "  Downloading rsa-4.6-py3-none-any.whl (47 kB)\n",
      "\u001b[K     |████████████████████████████████| 47 kB 441 kB/s eta 0:00:01\n",
      "\u001b[?25hCollecting jws>=0.1.3\n",
      "  Downloading jws-0.1.3.tar.gz (8.1 kB)\n",
      "Using legacy 'setup.py install' for gcloud, since package 'wheel' is not installed.\n",
      "Using legacy 'setup.py install' for pycryptodome, since package 'wheel' is not installed.\n",
      "Using legacy 'setup.py install' for jws, since package 'wheel' is not installed.\n",
      "Installing collected packages: httplib2, protobuf, googleapis-common-protos, pyasn1, pyasn1-modules, rsa, oauth2client, gcloud, jws, python-jwt, requests, pycryptodome, requests-toolbelt, pyrebase\n",
      "    Running setup.py install for gcloud ... \u001b[?25ldone\n",
      "\u001b[?25h    Running setup.py install for jws ... \u001b[?25ldone\n",
      "\u001b[?25h    Running setup.py install for pycryptodome ... \u001b[?25ldone\n",
      "\u001b[31mERROR: After October 2020 you may experience errors when installing or updating packages. This is because pip will change the way that it resolves dependency conflicts.\n",
      "\n",
      "We recommend you use --use-feature=2020-resolver to test your packages with the new resolver before it becomes the default.\n",
      "\n",
      "pyrebase 3.0.27 requires gcloud==0.17.0, but you'll have gcloud 0.18.3 which is incompatible.\n",
      "pyrebase 3.0.27 requires oauth2client==3.0.0, but you'll have oauth2client 4.1.3 which is incompatible.\u001b[0m\n",
      "\u001b[?25hSuccessfully installed gcloud-0.18.3 googleapis-common-protos-1.52.0 httplib2-0.18.1 jws-0.1.3 oauth2client-4.1.3 protobuf-3.13.0 pyasn1-0.4.8 pyasn1-modules-0.2.8 pycryptodome-3.4.3 pyrebase-3.0.27 python-jwt-2.0.1 requests-2.11.1 requests-toolbelt-0.7.0 rsa-4.6\n"
     ]
    }
   ],
   "source": [
    "# Install a pip package in the current Jupyter kernel\n",
    "import sys\n",
    "!{sys.executable} -m pip install setuptools gcloud pyrebase"
   ]
  },
  {
   "cell_type": "code",
   "execution_count": 8,
   "metadata": {},
   "outputs": [
    {
     "name": "stdout",
     "output_type": "stream",
     "text": [
      "Collecting python-dotenv\n",
      "  Using cached python_dotenv-0.14.0-py2.py3-none-any.whl (17 kB)\n",
      "Installing collected packages: python-dotenv\n",
      "Successfully installed python-dotenv-0.14.0\n"
     ]
    }
   ],
   "source": [
    "!{sys.executable} -m pip install python-dotenv"
   ]
  },
  {
   "cell_type": "markdown",
   "metadata": {},
   "source": [
    "# Simple Test Using Firebase"
   ]
  },
  {
   "cell_type": "code",
   "execution_count": 16,
   "metadata": {},
   "outputs": [],
   "source": [
    "import os\n",
    "import pyrebase\n",
    "from dotenv import load_dotenv\n",
    "load_dotenv()\n",
    "\n",
    "firebaseConfig = {\n",
    "    \"apiKey\": os.getenv(\"apiKey\"),\n",
    "    \"authDomain\": os.getenv(\"authDomain\"),\n",
    "    \"databaseURL\": os.getenv(\"databaseURL\"),\n",
    "    \"projectId\": os.getenv(\"projectId\"),\n",
    "    \"storageBucket\": os.getenv(\"storageBucket\"),\n",
    "    \"messagingSenderId\": os.getenv(\"messagingSenderId\"),\n",
    "    \"appId\": os.getenv(\"appId\"),\n",
    "    \"measurementId\": os.getenv(\"measurementId\") \n",
    "}\n"
   ]
  }
 ],
 "metadata": {
  "kernelspec": {
   "display_name": "Python 3",
   "language": "python",
   "name": "python3"
  },
  "language_info": {
   "codemirror_mode": {
    "name": "ipython",
    "version": 3
   },
   "file_extension": ".py",
   "mimetype": "text/x-python",
   "name": "python",
   "nbconvert_exporter": "python",
   "pygments_lexer": "ipython3",
   "version": "3.8.0"
  }
 },
 "nbformat": 4,
 "nbformat_minor": 4
}
